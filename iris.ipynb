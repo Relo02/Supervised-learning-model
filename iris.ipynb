{
 "cells": [
  {
   "cell_type": "code",
   "execution_count": 1,
   "metadata": {},
   "outputs": [
    {
     "name": "stdout",
     "output_type": "stream",
     "text": [
      "Requirement already satisfied: torch in c:\\users\\ortol\\appdata\\local\\programs\\python\\python310\\lib\\site-packages (2.4.0)\n",
      "Requirement already satisfied: sympy in c:\\users\\ortol\\appdata\\local\\programs\\python\\python310\\lib\\site-packages (from torch) (1.13.1)\n",
      "Requirement already satisfied: networkx in c:\\users\\ortol\\appdata\\local\\programs\\python\\python310\\lib\\site-packages (from torch) (3.2.1)\n",
      "Requirement already satisfied: typing-extensions>=4.8.0 in c:\\users\\ortol\\appdata\\local\\programs\\python\\python310\\lib\\site-packages (from torch) (4.12.2)\n",
      "Requirement already satisfied: filelock in c:\\users\\ortol\\appdata\\local\\programs\\python\\python310\\lib\\site-packages (from torch) (3.15.4)\n",
      "Requirement already satisfied: fsspec in c:\\users\\ortol\\appdata\\local\\programs\\python\\python310\\lib\\site-packages (from torch) (2024.6.1)\n",
      "Requirement already satisfied: jinja2 in c:\\users\\ortol\\appdata\\local\\programs\\python\\python310\\lib\\site-packages (from torch) (3.1.4)\n",
      "Requirement already satisfied: MarkupSafe>=2.0 in c:\\users\\ortol\\appdata\\local\\programs\\python\\python310\\lib\\site-packages (from jinja2->torch) (2.1.5)\n",
      "Requirement already satisfied: mpmath<1.4,>=1.1.0 in c:\\users\\ortol\\appdata\\local\\programs\\python\\python310\\lib\\site-packages (from sympy->torch) (1.3.0)\n"
     ]
    },
    {
     "name": "stderr",
     "output_type": "stream",
     "text": [
      "\n",
      "[notice] A new release of pip is available: 23.0.1 -> 24.2\n",
      "[notice] To update, run: python.exe -m pip install --upgrade pip\n"
     ]
    }
   ],
   "source": [
    "!pip install torch"
   ]
  },
  {
   "cell_type": "code",
   "execution_count": 4,
   "metadata": {},
   "outputs": [
    {
     "name": "stdout",
     "output_type": "stream",
     "text": [
      "Collecting pandas\n",
      "  Downloading pandas-2.2.2-cp310-cp310-win_amd64.whl (11.6 MB)\n",
      "     ---------------------------------------- 0.0/11.6 MB ? eta -:--:--\n",
      "     - -------------------------------------- 0.6/11.6 MB 12.0 MB/s eta 0:00:01\n",
      "     ---- ----------------------------------- 1.4/11.6 MB 14.6 MB/s eta 0:00:01\n",
      "     ------- -------------------------------- 2.2/11.6 MB 15.7 MB/s eta 0:00:01\n",
      "     --------- ------------------------------ 2.7/11.6 MB 17.1 MB/s eta 0:00:01\n",
      "     ------------ --------------------------- 3.7/11.6 MB 17.1 MB/s eta 0:00:01\n",
      "     --------------- ------------------------ 4.5/11.6 MB 17.1 MB/s eta 0:00:01\n",
      "     ----------------- ---------------------- 4.9/11.6 MB 15.8 MB/s eta 0:00:01\n",
      "     ------------------- -------------------- 5.7/11.6 MB 15.8 MB/s eta 0:00:01\n",
      "     ---------------------- ----------------- 6.5/11.6 MB 16.0 MB/s eta 0:00:01\n",
      "     ------------------------ --------------- 7.2/11.6 MB 16.0 MB/s eta 0:00:01\n",
      "     -------------------------- ------------- 7.8/11.6 MB 16.1 MB/s eta 0:00:01\n",
      "     ------------------------------ --------- 8.8/11.6 MB 16.0 MB/s eta 0:00:01\n",
      "     -------------------------------- ------- 9.5/11.6 MB 15.9 MB/s eta 0:00:01\n",
      "     ---------------------------------- ---- 10.3/11.6 MB 16.0 MB/s eta 0:00:01\n",
      "     ------------------------------------- - 11.1/11.6 MB 16.4 MB/s eta 0:00:01\n",
      "     --------------------------------------  11.6/11.6 MB 16.4 MB/s eta 0:00:01\n",
      "     --------------------------------------  11.6/11.6 MB 16.4 MB/s eta 0:00:01\n",
      "     --------------------------------------  11.6/11.6 MB 16.4 MB/s eta 0:00:01\n",
      "     --------------------------------------  11.6/11.6 MB 16.4 MB/s eta 0:00:01\n",
      "     --------------------------------------  11.6/11.6 MB 16.4 MB/s eta 0:00:01\n",
      "     --------------------------------------  11.6/11.6 MB 16.4 MB/s eta 0:00:01\n",
      "     --------------------------------------  11.6/11.6 MB 16.4 MB/s eta 0:00:01\n",
      "     --------------------------------------  11.6/11.6 MB 16.4 MB/s eta 0:00:01\n",
      "     --------------------------------------  11.6/11.6 MB 16.4 MB/s eta 0:00:01\n",
      "     --------------------------------------  11.6/11.6 MB 16.4 MB/s eta 0:00:01\n",
      "     --------------------------------------  11.6/11.6 MB 16.4 MB/s eta 0:00:01\n",
      "     ---------------------------------------- 11.6/11.6 MB 9.0 MB/s eta 0:00:00\n",
      "Requirement already satisfied: numpy>=1.22.4 in c:\\users\\ortol\\appdata\\local\\programs\\python\\python310\\lib\\site-packages (from pandas) (1.26.4)\n",
      "Collecting tzdata>=2022.7\n",
      "  Downloading tzdata-2024.1-py2.py3-none-any.whl (345 kB)\n",
      "     ---------------------------------------- 0.0/345.4 kB ? eta -:--:--\n",
      "     -------------------------------------- 345.4/345.4 kB 7.1 MB/s eta 0:00:00\n",
      "Requirement already satisfied: python-dateutil>=2.8.2 in c:\\users\\ortol\\appdata\\local\\programs\\python\\python310\\lib\\site-packages (from pandas) (2.8.2)\n",
      "Collecting pytz>=2020.1\n",
      "  Downloading pytz-2024.2-py2.py3-none-any.whl (508 kB)\n",
      "     ---------------------------------------- 0.0/508.0 kB ? eta -:--:--\n",
      "     ------------------------------------  501.8/508.0 kB 15.9 MB/s eta 0:00:01\n",
      "     ------------------------------------- 508.0/508.0 kB 10.8 MB/s eta 0:00:00\n",
      "Requirement already satisfied: six>=1.5 in c:\\users\\ortol\\appdata\\local\\programs\\python\\python310\\lib\\site-packages (from python-dateutil>=2.8.2->pandas) (1.16.0)\n",
      "Installing collected packages: pytz, tzdata, pandas\n",
      "Successfully installed pandas-2.2.2 pytz-2024.2 tzdata-2024.1\n"
     ]
    },
    {
     "name": "stderr",
     "output_type": "stream",
     "text": [
      "\n",
      "[notice] A new release of pip is available: 23.0.1 -> 24.2\n",
      "[notice] To update, run: python.exe -m pip install --upgrade pip\n"
     ]
    }
   ],
   "source": [
    "!pip install pandas"
   ]
  },
  {
   "cell_type": "code",
   "execution_count": 2,
   "metadata": {},
   "outputs": [],
   "source": [
    "import torch\n",
    "import matplotlib.pyplot as plt\n",
    "import pandas as pd"
   ]
  },
  {
   "cell_type": "markdown",
   "metadata": {},
   "source": [
    "Then is necessary to import the Iris plant dataset:"
   ]
  },
  {
   "cell_type": "code",
   "execution_count": 3,
   "metadata": {},
   "outputs": [
    {
     "data": {
      "text/plain": [
       "tensor([1., 1., 1., 1., 1., 1., 1., 1., 1., 1., 1., 1., 1., 1., 1., 1., 1., 1.,\n",
       "        1., 1., 1., 1., 1., 1., 1., 1., 1., 1., 1., 1., 1., 1., 1., 1., 1., 1.,\n",
       "        1., 1., 1., 1., 1., 1., 1., 1., 1., 1., 1., 1., 1., 1., 0., 0., 0., 0.,\n",
       "        0., 0., 0., 0., 0., 0., 0., 0., 0., 0., 0., 0., 0., 0., 0., 0., 0., 0.,\n",
       "        0., 0., 0., 0., 0., 0., 0., 0., 0., 0., 0., 0., 0., 0., 0., 0., 0., 0.,\n",
       "        0., 0., 0., 0., 0., 0., 0., 0., 0., 0.])"
      ]
     },
     "execution_count": 3,
     "metadata": {},
     "output_type": "execute_result"
    }
   ],
   "source": [
    "# Getting dataset\n",
    "data = pd.read_csv('iris.csv')\n",
    "\n",
    "split_data = 100\n",
    "X_train = torch.tensor(data.iloc[:split_data, :-1].values, dtype=torch.float32)\n",
    "\n",
    "iris_types = {\n",
    "    1: 'Setosa',\n",
    "    2: 'Versicolor',\n",
    "    3: 'Virginica'\n",
    "}\n",
    "\n",
    "keys = list(iris_types.keys())\n",
    "y_train = torch.tensor([1 if data.iloc[i, -1] == iris_types[1] else 0 for i in range(split_data)], dtype=torch.float32)\n",
    "y_train"
   ]
  },
  {
   "cell_type": "code",
   "execution_count": 18,
   "metadata": {},
   "outputs": [],
   "source": [
    "'''class LogisticRegression(torch.nn.Module):\n",
    "    def __init__(self):\n",
    "        super(LogisticRegression, self).__init__()\n",
    "        \n",
    "        torch.manual_seed(0)\n",
    "        \n",
    "        self.weights = torch.nn.Parameter(torch.randn(1, requires_grad=True, dtype=torch.float32))\n",
    "        self.biases = torch.nn.Parameter(torch.randn(1, requires_grad=True, dtype=torch.float32))\n",
    "\n",
    "    def forward(self, x: torch.Tensor) -> torch.Tensor:\n",
    "        return torch.sigmoid(self.weights * x + self.biases)'''"
   ]
  },
  {
   "cell_type": "code",
   "execution_count": 17,
   "metadata": {},
   "outputs": [],
   "source": [
    "class LogisticRegression(torch.nn.Module):\n",
    "    def __init__(self, X_train):\n",
    "        super(LogisticRegression, self).__init__()\n",
    "        self.X_train = X_train\n",
    "        \n",
    "        self.weights = torch.nn.Parameter(torch.randn(4, 1, requires_grad=True, dtype=torch.float32))\n",
    "        self.biases = torch.nn.Parameter(torch.randn(100, 1, requires_grad=True, dtype=torch.float32))\n",
    "\n",
    "    def forward(self) -> torch.Tensor:\n",
    "        return torch.sigmoid(torch.matmul(self.X_train, self.weights) + self.biases)"
   ]
  },
  {
   "cell_type": "code",
   "execution_count": 18,
   "metadata": {},
   "outputs": [
    {
     "data": {
      "text/plain": [
       "tensor([[0.9921, 0.9967, 0.9811, 0.9572, 0.9941, 0.9946, 0.9794, 0.9947, 0.9826,\n",
       "         0.9885, 0.9907, 0.9787, 0.9734, 0.9809, 0.9987, 0.9989, 0.9930, 0.9984,\n",
       "         0.9982, 0.9524, 0.9774, 0.9946, 0.9962, 0.9780, 0.9980, 0.9850, 0.9838,\n",
       "         0.9956, 0.9858, 0.9878, 0.9584, 0.9966, 0.9986, 0.9844, 0.9849, 0.9602,\n",
       "         0.9277, 0.9843, 0.9758, 0.9883, 0.9945, 0.9068, 0.9729, 0.9464, 0.9945,\n",
       "         0.9780, 0.9947, 0.9924, 0.9854, 0.9651, 0.9968, 0.9919, 0.9961, 0.9814,\n",
       "         0.9963, 0.9958, 0.9941, 0.9906, 0.9914, 0.9924, 0.9789, 0.9872, 0.9632,\n",
       "         0.9917, 0.9949, 0.9892, 0.9996, 0.9905, 0.9398, 0.9967, 0.9962, 0.9845,\n",
       "         0.9700, 0.9929, 0.9938, 0.9949, 0.9830, 0.9889, 0.9964, 0.9951, 0.9915,\n",
       "         0.8946, 0.9914, 0.9958, 0.9973, 0.9857, 0.9931, 0.9876, 0.9951, 0.9937,\n",
       "         0.9548, 0.9909, 0.9983, 0.9774, 0.9966, 0.9949, 0.9926, 0.9945, 0.9894,\n",
       "         0.9621]])"
      ]
     },
     "execution_count": 18,
     "metadata": {},
     "output_type": "execute_result"
    }
   ],
   "source": [
    "# Prediction step\n",
    "model = LogisticRegression(X_train)\n",
    "\n",
    "with torch.inference_mode():\n",
    "    y_pred = model.forward()\n",
    "\n",
    "torch.transpose(y_pred, 0, 1)"
   ]
  },
  {
   "cell_type": "code",
   "execution_count": 19,
   "metadata": {},
   "outputs": [],
   "source": [
    "# Defining the loss function\n",
    "loss = torch.nn.L1Loss()\n",
    "\n",
    "# defininig the optimizer\n",
    "optimizer = torch.optim.SGD(model.parameters(), lr=0.1)"
   ]
  },
  {
   "cell_type": "code",
   "execution_count": 20,
   "metadata": {},
   "outputs": [
    {
     "name": "stdout",
     "output_type": "stream",
     "text": [
      "Epoch 0 | Loss: 0.5023501515388489\n",
      "Epoch 10 | Loss: 0.5019545555114746\n",
      "Epoch 20 | Loss: 0.5015627145767212\n",
      "Epoch 30 | Loss: 0.501147449016571\n",
      "Epoch 40 | Loss: 0.5006710290908813\n",
      "Epoch 50 | Loss: 0.5000701546669006\n",
      "Epoch 60 | Loss: 0.4992217719554901\n",
      "Epoch 70 | Loss: 0.4978376626968384\n",
      "Epoch 80 | Loss: 0.495066374540329\n",
      "Epoch 90 | Loss: 0.4872032105922699\n",
      "Epoch 100 | Loss: 0.4404483437538147\n",
      "Epoch 110 | Loss: 0.27750107645988464\n",
      "Epoch 120 | Loss: 0.23283597826957703\n",
      "Epoch 130 | Loss: 0.19830819964408875\n",
      "Epoch 140 | Loss: 0.1707983762025833\n",
      "Epoch 150 | Loss: 0.1487998217344284\n",
      "Epoch 160 | Loss: 0.13105343282222748\n",
      "Epoch 170 | Loss: 0.11658096313476562\n",
      "Epoch 180 | Loss: 0.10464323312044144\n",
      "Epoch 190 | Loss: 0.09468590468168259\n",
      "Epoch 200 | Loss: 0.08629236370325089\n",
      "Epoch 210 | Loss: 0.07914719730615616\n",
      "Epoch 220 | Loss: 0.0730094164609909\n",
      "Epoch 230 | Loss: 0.06769295036792755\n",
      "Epoch 240 | Loss: 0.06305260956287384\n",
      "Epoch 250 | Loss: 0.05897388979792595\n",
      "Epoch 260 | Loss: 0.05536569654941559\n",
      "Epoch 270 | Loss: 0.0521547831594944\n",
      "Epoch 280 | Loss: 0.04928181320428848\n",
      "Epoch 290 | Loss: 0.046698197722435\n",
      "Epoch 300 | Loss: 0.04436400905251503\n",
      "Epoch 310 | Loss: 0.04224605858325958\n",
      "Epoch 320 | Loss: 0.040316615253686905\n",
      "Epoch 330 | Loss: 0.03855234012007713\n",
      "Epoch 340 | Loss: 0.03693350404500961\n",
      "Epoch 350 | Loss: 0.03544332832098007\n",
      "Epoch 360 | Loss: 0.034067437052726746\n",
      "Epoch 370 | Loss: 0.03279349207878113\n",
      "Epoch 380 | Loss: 0.03161077946424484\n",
      "Epoch 390 | Loss: 0.030510058626532555\n",
      "Epoch 400 | Loss: 0.029483236372470856\n",
      "Epoch 410 | Loss: 0.028523273766040802\n",
      "Epoch 420 | Loss: 0.027623934671282768\n",
      "Epoch 430 | Loss: 0.02677973359823227\n",
      "Epoch 440 | Loss: 0.025985820218920708\n",
      "Epoch 450 | Loss: 0.025237906724214554\n",
      "Epoch 460 | Loss: 0.0245321337133646\n",
      "Epoch 470 | Loss: 0.0238651093095541\n",
      "Epoch 480 | Loss: 0.023233706131577492\n",
      "Epoch 490 | Loss: 0.02263522893190384\n",
      "Epoch 500 | Loss: 0.022067157551646233\n",
      "Epoch 510 | Loss: 0.021527249366044998\n",
      "Epoch 520 | Loss: 0.021013492718338966\n",
      "Epoch 530 | Loss: 0.020524032413959503\n",
      "Epoch 540 | Loss: 0.020057199522852898\n",
      "Epoch 550 | Loss: 0.019611462950706482\n",
      "Epoch 560 | Loss: 0.019185446202754974\n",
      "Epoch 570 | Loss: 0.018777865916490555\n",
      "Epoch 580 | Loss: 0.018387554213404655\n",
      "Epoch 590 | Loss: 0.018013425171375275\n",
      "Epoch 600 | Loss: 0.017654502764344215\n",
      "Epoch 610 | Loss: 0.017309896647930145\n",
      "Epoch 620 | Loss: 0.016978763043880463\n",
      "Epoch 630 | Loss: 0.016660315915942192\n",
      "Epoch 640 | Loss: 0.01635383442044258\n",
      "Epoch 650 | Loss: 0.016058681532740593\n",
      "Epoch 660 | Loss: 0.01577422022819519\n",
      "Epoch 670 | Loss: 0.015499887056648731\n",
      "Epoch 680 | Loss: 0.015235154889523983\n",
      "Epoch 690 | Loss: 0.014979525469243526\n",
      "Epoch 700 | Loss: 0.01473253220319748\n",
      "Epoch 710 | Loss: 0.014493754133582115\n",
      "Epoch 720 | Loss: 0.014262770302593708\n",
      "Epoch 730 | Loss: 0.014039217494428158\n",
      "Epoch 740 | Loss: 0.01382273156195879\n",
      "Epoch 750 | Loss: 0.013612999580800533\n",
      "Epoch 760 | Loss: 0.013409688137471676\n",
      "Epoch 770 | Loss: 0.013212527148425579\n",
      "Epoch 780 | Loss: 0.013021218590438366\n",
      "Epoch 790 | Loss: 0.012835524044930935\n",
      "Epoch 800 | Loss: 0.012655184604227543\n",
      "Epoch 810 | Loss: 0.012479976750910282\n",
      "Epoch 820 | Loss: 0.012309689074754715\n",
      "Epoch 830 | Loss: 0.01214410550892353\n",
      "Epoch 840 | Loss: 0.011983041651546955\n",
      "Epoch 850 | Loss: 0.011826305650174618\n",
      "Epoch 860 | Loss: 0.011673737317323685\n",
      "Epoch 870 | Loss: 0.011525154113769531\n",
      "Epoch 880 | Loss: 0.011380412615835667\n",
      "Epoch 890 | Loss: 0.011239366605877876\n",
      "Epoch 900 | Loss: 0.011101862415671349\n",
      "Epoch 910 | Loss: 0.010967783629894257\n",
      "Epoch 920 | Loss: 0.010837001726031303\n",
      "Epoch 930 | Loss: 0.01070939376950264\n",
      "Epoch 940 | Loss: 0.010584828443825245\n",
      "Epoch 950 | Loss: 0.010463220067322254\n",
      "Epoch 960 | Loss: 0.010344453155994415\n",
      "Epoch 970 | Loss: 0.010228420607745647\n",
      "Epoch 980 | Loss: 0.010115044191479683\n",
      "Epoch 990 | Loss: 0.010004227049648762\n"
     ]
    }
   ],
   "source": [
    "# Time to train the model\n",
    "n_epochs = 1000\n",
    "loss_values = []\n",
    "epoch_count = []\n",
    "\n",
    "for epoch in range(n_epochs):\n",
    "    \n",
    "    model.train()\n",
    "    \n",
    "    # Computing predictions\n",
    "    y_pred = model.forward()\n",
    "    \n",
    "    # Computing loss function\n",
    "    output = loss(y_pred, y_train.view(-1, 1))\n",
    "    \n",
    "    # Zeroing the gradients for the next epoch\n",
    "    optimizer.zero_grad()\n",
    "    \n",
    "    # Computing the backpropagation step\n",
    "    output.backward()\n",
    "    \n",
    "    # Updating the weights by using the optimizer\n",
    "    optimizer.step()\n",
    "    \n",
    "    if epoch % 10 == 0:\n",
    "        epoch_count.append(epoch)\n",
    "        loss_values.append(output.item())\n",
    "        print(f'Epoch {epoch} | Loss: {output.item()}')             # Printing the loss function tells us how much the model is predicts correctly\n",
    "    "
   ]
  },
  {
   "cell_type": "code",
   "execution_count": 21,
   "metadata": {},
   "outputs": [
    {
     "data": {
      "image/png": "[encoded data removed]",
      "text/plain": [
       "<Figure size 640x480 with 1 Axes>"
      ]
     },
     "metadata": {},
     "output_type": "display_data"
    }
   ],
   "source": [
    "# Plotting the loss function\n",
    "plt.plot(epoch_count, loss_values, label=\"Train loss\")\n",
    "plt.title(\"Training loss curve\")\n",
    "plt.ylabel(\"Loss\")\n",
    "plt.xlabel(\"Epochs\")\n",
    "plt.legend();"
   ]
  },
  {
   "cell_type": "code",
   "execution_count": 23,
   "metadata": {},
   "outputs": [
    {
     "data": {
      "text/plain": [
       "(tensor([[9.9782e-01, 9.9792e-01, 9.9375e-01, 9.6926e-01, 9.9860e-01, 9.9735e-01,\n",
       "          9.9203e-01, 9.9763e-01, 9.8690e-01, 9.9272e-01, 9.9751e-01, 9.8675e-01,\n",
       "          9.8582e-01, 9.9583e-01, 9.9992e-01, 9.9988e-01, 9.9906e-01, 9.9948e-01,\n",
       "          9.9910e-01, 9.8725e-01, 9.8210e-01, 9.9803e-01, 9.9974e-01, 9.6895e-01,\n",
       "          9.9658e-01, 9.8298e-01, 9.8710e-01, 9.9834e-01, 9.9552e-01, 9.8935e-01,\n",
       "          9.6039e-01, 9.9810e-01, 9.9982e-01, 9.9864e-01, 9.8914e-01, 9.9081e-01,\n",
       "          9.8628e-01, 9.9671e-01, 9.8873e-01, 9.9483e-01, 9.9874e-01, 8.7454e-01,\n",
       "          9.9074e-01, 9.5453e-01, 9.9376e-01, 9.8467e-01, 9.9825e-01, 9.9647e-01,\n",
       "          9.9607e-01, 9.8697e-01, 3.4000e-03, 2.1309e-03, 1.0922e-03, 1.3379e-03,\n",
       "          1.8069e-03, 2.6326e-03, 1.5561e-03, 3.9350e-02, 1.2161e-03, 7.1284e-03,\n",
       "          5.2567e-03, 2.4620e-03, 9.0709e-04, 7.5299e-04, 4.2553e-02, 2.2368e-03,\n",
       "          2.7946e-02, 5.5085e-03, 5.4853e-05, 1.8446e-02, 1.0787e-03, 3.8040e-03,\n",
       "          5.0251e-05, 9.8265e-04, 4.3066e-03, 4.0119e-03, 2.4243e-04, 1.7534e-04,\n",
       "          2.8237e-03, 5.7050e-02, 8.5026e-03, 1.0107e-03, 8.8708e-03, 2.1999e-04,\n",
       "          4.0313e-03, 1.3768e-03, 1.1641e-03, 6.0485e-04, 1.0989e-02, 5.4111e-03,\n",
       "          2.6877e-04, 1.1104e-03, 2.6793e-02, 1.4798e-02, 7.1223e-03, 8.9415e-03,\n",
       "          4.6313e-03, 4.7643e-03, 8.8119e-02, 1.0526e-03]],\n",
       "        grad_fn=<TransposeBackward0>),\n",
       " tensor([1., 1., 1., 1., 1., 1., 1., 1., 1., 1., 1., 1., 1., 1., 1., 1., 1., 1.,\n",
       "         1., 1., 1., 1., 1., 1., 1., 1., 1., 1., 1., 1., 1., 1., 1., 1., 1., 1.,\n",
       "         1., 1., 1., 1., 1., 1., 1., 1., 1., 1., 1., 1., 1., 1., 0., 0., 0., 0.,\n",
       "         0., 0., 0., 0., 0., 0., 0., 0., 0., 0., 0., 0., 0., 0., 0., 0., 0., 0.,\n",
       "         0., 0., 0., 0., 0., 0., 0., 0., 0., 0., 0., 0., 0., 0., 0., 0., 0., 0.,\n",
       "         0., 0., 0., 0., 0., 0., 0., 0., 0., 0.]))"
      ]
     },
     "execution_count": 23,
     "metadata": {},
     "output_type": "execute_result"
    }
   ],
   "source": [
    "torch.transpose(y_pred, 0, 1), y_train"
   ]
  }
 ],
 "metadata": {
  "kernelspec": {
   "display_name": "Python 3",
   "language": "python",
   "name": "python3"
  },
  "language_info": {
   "codemirror_mode": {
    "name": "ipython",
    "version": 3
   },
   "file_extension": ".py",
   "mimetype": "text/x-python",
   "name": "python",
   "nbconvert_exporter": "python",
   "pygments_lexer": "ipython3",
   "version": "3.10.11"
  }
 },
 "nbformat": 4,
 "nbformat_minor": 2
}
